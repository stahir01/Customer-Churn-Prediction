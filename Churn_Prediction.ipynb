{
 "cells": [
  {
   "cell_type": "markdown",
   "metadata": {},
   "source": [
    "# Customer Churn Prediction"
   ]
  },
  {
   "cell_type": "markdown",
   "metadata": {},
   "source": [
    "Churn prediction means detecting which customers are likely to leave a service or to cancel a subscription to a service. It is a critical prediction for many businesses because acquiring new clients often costs more than retaining existing ones.\n",
    "\n"
   ]
  },
  {
   "cell_type": "markdown",
   "metadata": {},
   "source": [
    "We have been provided with a dataset in which we have to predict whether a customer will change it's telecommunications provider.<br>\n",
    "The dataset is taken from the following link: https://www.kaggle.com/competitions/customer-churn-prediction-2020/overview<br><br>\n",
    "\n",
    "The training dataset contains 4250 samples. Each sample contains 19 features and 1 boolean variable \"churn\" which indicates the class of the sample. The 19 input features and 1 target variable are:<br>\n",
    "\n",
    "1. <b>state:</b> string. 2-letter code of the US state of customer residence\n",
    "2. <b>account_length:</b> Number of months the customer has been with the current telco provider\n",
    "3. <b>area_code:</b> area_code_AAA\" where AAA = 3 digit area code\n",
    "4. <b> international_plan: </b> The customer has international plan.\n",
    "5. <b>voice_mail_plan: </b>  The customer has voice mail plan.\n",
    "6. <b>number_vmail_messages: </b> Number of voice-mail messages.\n",
    "7. <b>total_day_minutes: </b> Total minutes of day calls.\n",
    "8. <b>total_day_calls: </b>  Total minutes of day calls.\n",
    "9. <b>total_day_charge: </b>  Total charge of day calls.\n",
    "10. <b>total_eve_minutes: </b> Total minutes of evening calls.\n",
    "11. <b>total_eve_calls: </b> Total number of evening calls.\n",
    "12. <b>total_eve_charge: </b>Total charge of evening calls.\n",
    "13. <b>total_night_minutes: </b>  Total minutes of night calls.\n",
    "14. <b>total_night_calls: </b> Total number of night calls.\n",
    "15. <b>total_night_charge: </b>  Total charge of night calls.\n",
    "16. <b>total_intl_minutes: </b>  Total minutes of international calls.\n",
    "17. <b>total_intl_calls: </b> Total number of international calls.\n",
    "18. <b>total_intl_charge: </b>  Total charge of international calls\n",
    "19. <b>number_customer_service_calls: </b> Number of calls to customer service\n",
    "20. <b>churn: </b> Customer churn - target variable\n",
    "\n",
    "\n",
    "### <b> Dataset: </b>\n",
    "* <b> train.csv: </b>  the training set.<br>\n",
    "Contains 4250 lines with 20 columns. 3652 samples (85.93%) belong to class churn=no and 598 samples (14.07%) belong to class churn=yes.<br>\n",
    "* <b> test.csv: </b> the test set.<br>\n",
    "Contains 750 lines with 20 columns: the index of each sample and the 19 features (missing the target variable \"churn\")."
   ]
  },
  {
   "cell_type": "markdown",
   "metadata": {},
   "source": []
  }
 ],
 "metadata": {
  "language_info": {
   "name": "python"
  },
  "orig_nbformat": 4
 },
 "nbformat": 4,
 "nbformat_minor": 2
}
